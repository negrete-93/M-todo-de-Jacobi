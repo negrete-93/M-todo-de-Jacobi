{
  "nbformat": 4,
  "nbformat_minor": 0,
  "metadata": {
    "colab": {
      "provenance": [],
      "authorship_tag": "ABX9TyMmGrugwgWw0Mk9X5rnDBBt",
      "include_colab_link": true
    },
    "kernelspec": {
      "name": "python3",
      "display_name": "Python 3"
    },
    "language_info": {
      "name": "python"
    }
  },
  "cells": [
    {
      "cell_type": "markdown",
      "metadata": {
        "id": "view-in-github",
        "colab_type": "text"
      },
      "source": [
        "<a href=\"https://colab.research.google.com/github/negrete-93/M-todo-de-Jacobi/blob/main/Metodo_de_Jacobi.ipynb\" target=\"_parent\"><img src=\"https://colab.research.google.com/assets/colab-badge.svg\" alt=\"Open In Colab\"/></a>"
      ]
    },
    {
      "cell_type": "markdown",
      "source": [
        "# Método de Jacobi\n",
        "El método de Jacobi consiste en despejar cada incógnita de su respectiva ecuación y luego con un valor inicial, ir calculando aproximaciones sucesivas de la solución.\n",
        "Se usa cuando la matriz es grande y dispersa, también es útil en aplicaciones de análisis numérico, simulación de procesos físicos y métodos de diferencias finitas en ecuaciones diferenciales."
      ],
      "metadata": {
        "id": "aseJIylheyIh"
      }
    },
    {
      "cell_type": "code",
      "execution_count": 6,
      "metadata": {
        "colab": {
          "base_uri": "https://localhost:8080/"
        },
        "id": "JSvb6Nh1JUwy",
        "outputId": "394987b0-f635-4f5f-d57f-383f5531d262"
      },
      "outputs": [
        {
          "output_type": "stream",
          "name": "stdout",
          "text": [
            "Solución aproximada: [0.77777704 1.4444437  1.66666592 2.33333259]\n",
            "Iteraciones: 21\n",
            "Error máximo: 9.944154e-01\n"
          ]
        }
      ],
      "source": [
        "import numpy as np\n",
        "import matplotlib.pyplot as plt\n",
        "\n",
        "#Definimos el metodo de Jocobi\n",
        "def jacobi(A, b, x0, tol=1e-6, max_iter=100):\n",
        "    n = len(b)\n",
        "    x = x0.copy()\n",
        "    for k in range(max_iter):\n",
        "        x_new = np.zeros_like(x)\n",
        "        for i in range(n):\n",
        "            s = sum(A[i][j] * x[j] for j in range(n) if j != i)\n",
        "            x_new[i] = (b[i] - s) / A[i][i]\n",
        "        # criterio de parada\n",
        "        if np.linalg.norm(x_new - x, ord=np.inf) < tol:\n",
        "            return x_new, k+1\n",
        "        x = x_new\n",
        "    return x, max_iter\n",
        "\n",
        "# Definir A y b\n",
        "A = np.array([\n",
        "    [4, -1, -1, 0],\n",
        "    [-1, 4, 0, -1],\n",
        "    [-1, 0, 4, -1],\n",
        "    [0, -1, -1, 4]\n",
        "], dtype=float)\n",
        "\n",
        "b = np.array([0,8/3, 32/9, 56/9], dtype=float)\n",
        "\n",
        "# Definimos la aproximación inicial\n",
        "x0 = np.zeros(len(b))\n",
        "\n",
        "# Ejecutar Jacobi\n",
        "sol, iters = jacobi(A, b, x0)\n",
        "print(\"Solución aproximada:\", sol)\n",
        "print(\"Iteraciones:\", iters)\n",
        "\n",
        "# Solución exacta\n",
        "u_exact = np.sin(np.pi*X) * np.sin(np.pi*Y)\n",
        "\n",
        "# Error\n",
        "error = np.max(np.abs(u - u_exact))\n",
        "print(f\"Error máximo: {error:.6e}\")\n",
        "\n"
      ]
    }
  ]
}