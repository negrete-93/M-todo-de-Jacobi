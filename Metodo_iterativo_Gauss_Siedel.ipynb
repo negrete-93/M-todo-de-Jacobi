{
  "nbformat": 4,
  "nbformat_minor": 0,
  "metadata": {
    "colab": {
      "provenance": [],
      "authorship_tag": "ABX9TyPP2yvNqvlis8hs+zA032Vj",
      "include_colab_link": true
    },
    "kernelspec": {
      "name": "python3",
      "display_name": "Python 3"
    },
    "language_info": {
      "name": "python"
    }
  },
  "cells": [
    {
      "cell_type": "markdown",
      "metadata": {
        "id": "view-in-github",
        "colab_type": "text"
      },
      "source": [
        "<a href=\"https://colab.research.google.com/github/negrete-93/M-todo-de-Jacobi/blob/main/Metodo_iterativo_Gauss_Siedel.ipynb\" target=\"_parent\"><img src=\"https://colab.research.google.com/assets/colab-badge.svg\" alt=\"Open In Colab\"/></a>"
      ]
    },
    {
      "cell_type": "code",
      "source": [],
      "metadata": {
        "id": "5GQCQh2hhY5X"
      },
      "execution_count": null,
      "outputs": []
    },
    {
      "cell_type": "markdown",
      "source": [
        "# Método iterativo Gauss- Siedel\n",
        "\n",
        "Es un método iterativo para resolver sistemas de ecuaciones lineales de la forma: Ax=b\n",
        "\n",
        "donde:\n",
        "\n",
        "*   A es una matriz cuadrada de tamaño nxn\n",
        "*   x es el vector de incógnitas\n",
        "*   b es el vector de términos independientes\n",
        "\n",
        "El método consiste en aproximar progresivamente la solución. Parte de una estimación inicial y en cada iteración se actualizan las variables una por una usando las mismsas aproximaciones disponibles. Lo importante es que usa los valores nuevos ya calculados en la misma iteración.\n",
        "\n",
        "Se usa para resolver grnades sistemas de ecuaciones lineales, análisis estructural, métodos numéricos en mecánica de fluidos y simulación de modelos matemáticos\n",
        "\n",
        "\n"
      ],
      "metadata": {
        "id": "PhY7bsfkgzEE"
      }
    },
    {
      "cell_type": "code",
      "source": [
        "import numpy as np\n",
        "import pandas as pd\n"
      ],
      "metadata": {
        "id": "O9B-lQA204Tn"
      },
      "execution_count": 1,
      "outputs": []
    },
    {
      "cell_type": "code",
      "execution_count": null,
      "metadata": {
        "id": "Q1GxK3z0go4H"
      },
      "outputs": [],
      "source": [
        "def metodo_gauss_seidel(A, b, x_ini, tol, Nmax):\n",
        "  #definimos\n",
        "  n=len(A)\n",
        "  k=1\n",
        "  xo=x_ini.copy()\n",
        "  x=xo.copy()\n",
        "\n",
        "  #lista de iteraciones\n",
        "  resultados=[x.tolist()]\n",
        "\n",
        "  #pero, mientras que K ≤ N, entonces:\n",
        "  #realizamos un ciclo para i=1,...,n.\n",
        "  while k <= Nmax:\n",
        "        xo = x.copy()\n",
        "        for i in range(n):\n",
        "            suma1 = np.dot(A[i, :i], x[:i])\n",
        "            suma2 = np.dot(A[i, i+1:], xo[i+1:])\n",
        "            x[i] = (b[i] - suma1 - suma2) / A[i, i]\n",
        "\n",
        "        resultados.append(x.tolist())\n",
        "\n",
        "  #ahora, si x-XO < TOL, hacemos:\n",
        "  if np.linalg.norm(x-xo, ord=np.inf)<tol:\n",
        "      print(f\"El procedimiento fue exitoso, convergio despues de {k} iteraciones.\")\n",
        "      return resultados, x, k\n",
        "      k+=1\n",
        "\n",
        "  print(\"El procedimieto no fue exitoso, el número maximo de iteraciones fue excedido.\")\n",
        "  return resultados, None, Nmax\n",
        "\n",
        "  #aplicando el sistema\n",
        "if __name__==\"__main__\":\n",
        "  A=np.array([[4, -1, 0, -1, 0, 0, 0, 0, 0],\n",
        "              [-1, 4, -1, 0, -1, 0, 0, 0, 0],\n",
        "              [0, -1, 4, 0, 0, -1, 0, 0, 0],\n",
        "              [-1, 0, 0, 4, -1, 0, -1, 0, 0],\n",
        "              [0, -1, 0, -1, 4, -1, 0, -1, 0],\n",
        "              [0, 0, -1, 0, -1, 4, 0, 0, -1],\n",
        "              [0, 0, 0, -1, 0, 0, 4, -1, 0],\n",
        "              [0, 0, 0, 0, -1, 0, -1, 4, -1],\n",
        "              [0, 0, 0, 0, 0, -1, 0, -1, 4]])\n",
        "  b=np.array([0, 0, 1/2, 0, 0, 1, 0, 0, 1/2])\n",
        "  x0=np.zeros_like(b)\n",
        "  Nmax=50\n",
        "  tol=1e-5"
      ]
    },
    {
      "cell_type": "code",
      "source": [
        "#Lo visualizamos en una tabla\n",
        "\n",
        "tabla_iter, solucion, num_iteraciones = metodo_gauss_seidel(A, b, x0, tol, Nmax)\n",
        "\n",
        "if solucion is not None:\n",
        "    print(\"Solución encontrada.\")\n",
        "    print(f\"Número de iteraciones: {num_iteraciones}\")\n",
        "\n"
      ],
      "metadata": {
        "id": "r8u4EGHez49Y"
      },
      "execution_count": null,
      "outputs": []
    },
    {
      "cell_type": "code",
      "source": [
        "#Malla\n",
        "\n",
        "n = len(b)\n",
        "x = np.linspace(0, 1, n+2)\n",
        "y = np.linspace(0, 1, n+2)\n",
        "X, Y = np.meshgrid(x, y)\n",
        "\n",
        "# Insertamos la solución en la malla (n x n puntos interiores)\n",
        "u = np.zeros((n+2, n+2))\n",
        "u[1:-1, 1:-1] = solucion.reshape((n, n))\n",
        "\n",
        "\n",
        "# Solución exacta\n",
        "u_exact = np.sin(np.pi*X) * np.sin(np.pi*Y)\n",
        "\n",
        "# Error\n",
        "error = np.max(np.abs(u - u_exact))\n",
        "print(f\"Error máximo: {error:.6e}\")\n",
        "\n",
        "# Gráfica\n",
        "fig = plt.figure(figsize=(12,5))\n",
        "\n",
        "ax1 = fig.add_subplot(121, projection='3d')\n",
        "ax1.plot_surface(X, Y, u, cmap='viridis')\n",
        "ax1.set_title(\"Solución aproximada (Gauss-Seidel)\")\n",
        "\n",
        "ax2 = fig.add_subplot(122, projection='3d')\n",
        "ax2.plot_surface(X, Y, u_exact, cmap='viridis')\n",
        "ax2.set_title(\"Solución exacta\")\n",
        "\n",
        "plt.show()"
      ],
      "metadata": {
        "colab": {
          "base_uri": "https://localhost:8080/",
          "height": 211
        },
        "id": "GYXNN6Vjz9K2",
        "outputId": "120d271e-dd08-4967-e895-dcc751fcdbb5"
      },
      "execution_count": null,
      "outputs": [
        {
          "output_type": "error",
          "ename": "ValueError",
          "evalue": "cannot reshape array of size 9 into shape (9,9)",
          "traceback": [
            "\u001b[0;31m---------------------------------------------------------------------------\u001b[0m",
            "\u001b[0;31mValueError\u001b[0m                                Traceback (most recent call last)",
            "\u001b[0;32m/tmp/ipython-input-2134105864.py\u001b[0m in \u001b[0;36m<cell line: 0>\u001b[0;34m()\u001b[0m\n\u001b[1;32m      8\u001b[0m \u001b[0;31m# Insertamos la solución en la malla (n x n puntos interiores)\u001b[0m\u001b[0;34m\u001b[0m\u001b[0;34m\u001b[0m\u001b[0m\n\u001b[1;32m      9\u001b[0m \u001b[0mu\u001b[0m \u001b[0;34m=\u001b[0m \u001b[0mnp\u001b[0m\u001b[0;34m.\u001b[0m\u001b[0mzeros\u001b[0m\u001b[0;34m(\u001b[0m\u001b[0;34m(\u001b[0m\u001b[0mn\u001b[0m\u001b[0;34m+\u001b[0m\u001b[0;36m2\u001b[0m\u001b[0;34m,\u001b[0m \u001b[0mn\u001b[0m\u001b[0;34m+\u001b[0m\u001b[0;36m2\u001b[0m\u001b[0;34m)\u001b[0m\u001b[0;34m)\u001b[0m\u001b[0;34m\u001b[0m\u001b[0;34m\u001b[0m\u001b[0m\n\u001b[0;32m---> 10\u001b[0;31m \u001b[0mu\u001b[0m\u001b[0;34m[\u001b[0m\u001b[0;36m1\u001b[0m\u001b[0;34m:\u001b[0m\u001b[0;34m-\u001b[0m\u001b[0;36m1\u001b[0m\u001b[0;34m,\u001b[0m \u001b[0;36m1\u001b[0m\u001b[0;34m:\u001b[0m\u001b[0;34m-\u001b[0m\u001b[0;36m1\u001b[0m\u001b[0;34m]\u001b[0m \u001b[0;34m=\u001b[0m \u001b[0msolucion\u001b[0m\u001b[0;34m.\u001b[0m\u001b[0mreshape\u001b[0m\u001b[0;34m(\u001b[0m\u001b[0;34m(\u001b[0m\u001b[0mn\u001b[0m\u001b[0;34m,\u001b[0m \u001b[0mn\u001b[0m\u001b[0;34m)\u001b[0m\u001b[0;34m)\u001b[0m\u001b[0;34m\u001b[0m\u001b[0;34m\u001b[0m\u001b[0m\n\u001b[0m\u001b[1;32m     11\u001b[0m \u001b[0;34m\u001b[0m\u001b[0m\n\u001b[1;32m     12\u001b[0m \u001b[0;34m\u001b[0m\u001b[0m\n",
            "\u001b[0;31mValueError\u001b[0m: cannot reshape array of size 9 into shape (9,9)"
          ]
        }
      ]
    }
  ]
}